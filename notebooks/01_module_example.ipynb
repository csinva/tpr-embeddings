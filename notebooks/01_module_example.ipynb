{
 "cells": [
  {
   "cell_type": "code",
   "execution_count": null,
   "metadata": {},
   "outputs": [],
   "source": [
    "%load_ext autoreload\n",
    "%autoreload 2\n",
    "import os\n",
    "import matplotlib.pyplot as plt\n",
    "import seaborn as sns\n",
    "from os.path import join\n",
    "from tqdm import tqdm\n",
    "import pandas as pd\n",
    "import joblib\n",
    "import sys\n",
    "from tpr.models.fmri_module import fMRIModule"
   ]
  },
  {
   "cell_type": "code",
   "execution_count": null,
   "metadata": {},
   "outputs": [],
   "source": [
    "text = 'the man walked the dog'\n",
    "# facebook/opt-30b\n",
    "mod = fMRIModule(checkpoint=\"decapoda-research/llama-30b-hf\")\n",
    "\n",
    "# get embedding\n",
    "emb = mod(text)"
   ]
  },
  {
   "cell_type": "code",
   "execution_count": null,
   "metadata": {},
   "outputs": [],
   "source": [
    "# initialize a single voxel for a single subject\n",
    "subject = 'UTS03'\n",
    "voxel_num_best = np.arange(0, 500)  # select the top-500 best-predicted voxels\n",
    "\n",
    "mod._init_fmri(subject)\n",
    "mod._init_fmri_voxel(voxel_num_best, subject)\n",
    "print('predicted correlation', mod.corrs[mod.voxel_idxs])\n",
    "\n",
    "# get fMRI-predicted output (alternative embedding)\n",
    "emb_fmri = mod(text, subject)"
   ]
  }
 ],
 "metadata": {
  "kernelspec": {
   "display_name": ".embgam",
   "language": "python",
   "name": "python3"
  },
  "language_info": {
   "codemirror_mode": {
    "name": "ipython",
    "version": 3
   },
   "file_extension": ".py",
   "mimetype": "text/x-python",
   "name": "python",
   "nbconvert_exporter": "python",
   "pygments_lexer": "ipython3",
   "version": "3.11.7"
  },
  "orig_nbformat": 4,
  "vscode": {
   "interpreter": {
    "hash": "559535f78d940c882783b39501b2581b5193373045707e5f8a51d046029cfd38"
   }
  }
 },
 "nbformat": 4,
 "nbformat_minor": 2
}
